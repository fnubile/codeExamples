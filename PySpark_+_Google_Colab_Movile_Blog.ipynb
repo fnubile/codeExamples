{
  "nbformat": 4,
  "nbformat_minor": 0,
  "metadata": {
    "colab": {
      "name": "PySpark + Google Colab - Movile Blog.ipynb",
      "version": "0.3.2",
      "provenance": []
    },
    "kernelspec": {
      "name": "python3",
      "display_name": "Python 3"
    }
  },
  "cells": [
    {
      "metadata": {
        "id": "P2qxHqDGQSjM",
        "colab_type": "code",
        "outputId": "63c96d77-21e7-476b-da26-9903404ecce7",
        "colab": {
          "base_uri": "https://localhost:8080/",
          "height": 69
        }
      },
      "cell_type": "code",
      "source": [
        "#Instalando as bibliotecas necessárias\n",
        "!apt-get install openjdk-8-jdk-headless -qq > /dev/null\n",
        "!wget -q http://www-eu.apache.org/dist/spark/spark-2.4.1/spark-2.4.1-bin-hadoop2.7.tgz\n",
        "!tar xf spark-2.4.1-bin-hadoop2.7.tgz\n",
        "!pip install -q findspark\n",
        "!pip install -q pyspark"
      ],
      "execution_count": 0,
      "outputs": [
        {
          "output_type": "stream",
          "text": [
            "\u001b[K    100% |████████████████████████████████| 215.7MB 110kB/s \n",
            "\u001b[K    100% |████████████████████████████████| 204kB 28.2MB/s \n",
            "\u001b[?25h  Building wheel for pyspark (setup.py) ... \u001b[?25ldone\n",
            "\u001b[?25h"
          ],
          "name": "stdout"
        }
      ]
    },
    {
      "metadata": {
        "id": "GE-ZCsPdQbsT",
        "colab_type": "code",
        "colab": {}
      },
      "cell_type": "code",
      "source": [
        "#Variáveis de ambiente\n",
        "import os\n",
        "os.environ[\"JAVA_HOME\"] = \"/usr/lib/jvm/java-8-openjdk-amd64\"\n",
        "os.environ[\"SPARK_HOME\"] = \"/content/spark-2.4.1-bin-hadoop2.7\""
      ],
      "execution_count": 0,
      "outputs": []
    },
    {
      "metadata": {
        "id": "uf-jzcXVRHRE",
        "colab_type": "code",
        "colab": {}
      },
      "cell_type": "code",
      "source": [
        "#Encontrando e instanciando o Spark Session\n",
        "import findspark\n",
        "findspark.init()\n",
        "from pyspark.sql import SparkSession\n",
        "spark = SparkSession.builder.master(\"local[*]\").getOrCreate()"
      ],
      "execution_count": 0,
      "outputs": []
    },
    {
      "metadata": {
        "id": "4EmMwrD4X3c9",
        "colab_type": "code",
        "colab": {}
      },
      "cell_type": "code",
      "source": [
        "from pyspark.sql import *"
      ],
      "execution_count": 0,
      "outputs": []
    },
    {
      "metadata": {
        "id": "geVA3KNhT29z",
        "colab_type": "code",
        "outputId": "96427c57-e84e-430e-b3eb-207c4195f064",
        "colab": {
          "base_uri": "https://localhost:8080/",
          "height": 34
        }
      },
      "cell_type": "code",
      "source": [
        "dataset = spark.read.format(\"json\").option(\"multiLine\",True).load(\"sample_data/anscombe.json\")\n",
        "dataset.columns"
      ],
      "execution_count": 0,
      "outputs": [
        {
          "output_type": "execute_result",
          "data": {
            "text/plain": [
              "['Series', 'X', 'Y']"
            ]
          },
          "metadata": {
            "tags": []
          },
          "execution_count": 9
        }
      ]
    },
    {
      "metadata": {
        "id": "BR7qEn1-T9Lv",
        "colab_type": "code",
        "outputId": "4627eb61-4f4d-4128-8177-309eff4275ce",
        "colab": {
          "base_uri": "https://localhost:8080/",
          "height": 295
        }
      },
      "cell_type": "code",
      "source": [
        "dataset.show(10)"
      ],
      "execution_count": 0,
      "outputs": [
        {
          "output_type": "stream",
          "text": [
            "+------+----+-----+\n",
            "|Series|   X|    Y|\n",
            "+------+----+-----+\n",
            "|     I|10.0| 8.04|\n",
            "|     I| 8.0| 6.95|\n",
            "|     I|13.0| 7.58|\n",
            "|     I| 9.0| 8.81|\n",
            "|     I|11.0| 8.33|\n",
            "|     I|14.0| 9.96|\n",
            "|     I| 6.0| 7.24|\n",
            "|     I| 4.0| 4.26|\n",
            "|     I|12.0|10.84|\n",
            "|     I| 7.0| 4.81|\n",
            "+------+----+-----+\n",
            "only showing top 10 rows\n",
            "\n"
          ],
          "name": "stdout"
        }
      ]
    },
    {
      "metadata": {
        "id": "R7XW4Uu-RHIW",
        "colab_type": "code",
        "outputId": "fa318e88-11d9-4ea4-8334-edd0eba0b709",
        "colab": {
          "base_uri": "https://localhost:8080/",
          "height": 104
        }
      },
      "cell_type": "code",
      "source": [
        "dataset.printSchema()"
      ],
      "execution_count": 0,
      "outputs": [
        {
          "output_type": "stream",
          "text": [
            "root\n",
            " |-- Series: string (nullable = true)\n",
            " |-- X: double (nullable = true)\n",
            " |-- Y: double (nullable = true)\n",
            "\n"
          ],
          "name": "stdout"
        }
      ]
    },
    {
      "metadata": {
        "id": "hdqsNhxAS_yB",
        "colab_type": "code",
        "outputId": "9aac9d23-0839-4574-8b30-35fe3fd04220",
        "colab": {
          "base_uri": "https://localhost:8080/",
          "height": 173
        }
      },
      "cell_type": "code",
      "source": [
        "from pyspark.sql import functions as F\n",
        "dataset_agrupado = dataset.groupBy(\"Series\") \\\n",
        "                          .agg(F.avg(\"X\").alias(\"X_agrupado\"), F.avg(\"Y\").alias(\"Y_agrupado\"))  \\\n",
        "                          .orderBy(\"Series\")\n",
        "\n",
        "dataset_agrupado.show()"
      ],
      "execution_count": 0,
      "outputs": [
        {
          "output_type": "stream",
          "text": [
            "+------+----------+-----------------+\n",
            "|Series|X_agrupado|       Y_agrupado|\n",
            "+------+----------+-----------------+\n",
            "|     I|       9.0|              7.5|\n",
            "|    II|       9.0|7.500909090909091|\n",
            "|   III|       9.0|7.500000000000001|\n",
            "|    IV|       9.0| 7.50090909090909|\n",
            "+------+----------+-----------------+\n",
            "\n"
          ],
          "name": "stdout"
        }
      ]
    },
    {
      "metadata": {
        "id": "SO7djs_cHL1H",
        "colab_type": "code",
        "outputId": "298cc5f9-7bb9-4052-fb57-96fed97c88e3",
        "colab": {
          "base_uri": "https://localhost:8080/",
          "height": 159
        }
      },
      "cell_type": "code",
      "source": [
        "dataset_agrupado.explain()"
      ],
      "execution_count": 0,
      "outputs": [
        {
          "output_type": "stream",
          "text": [
            "== Physical Plan ==\n",
            "*(3) Sort [Series#0 ASC NULLS FIRST], true, 0\n",
            "+- Exchange rangepartitioning(Series#0 ASC NULLS FIRST, 200)\n",
            "   +- *(2) HashAggregate(keys=[Series#0], functions=[avg(X#1), avg(Y#2)])\n",
            "      +- Exchange hashpartitioning(Series#0, 200)\n",
            "         +- *(1) HashAggregate(keys=[Series#0], functions=[partial_avg(X#1), partial_avg(Y#2)])\n",
            "            +- *(1) FileScan json [Series#0,X#1,Y#2] Batched: false, Format: JSON, Location: InMemoryFileIndex[file:/content/sample_data/anscombe.json], PartitionFilters: [], PushedFilters: [], ReadSchema: struct<Series:string,X:double,Y:double>\n"
          ],
          "name": "stdout"
        }
      ]
    }
  ]
}